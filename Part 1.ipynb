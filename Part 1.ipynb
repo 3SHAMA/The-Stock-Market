{
 "cells": [
  {
   "cell_type": "markdown",
   "metadata": {},
   "source": [
    "# Import functions and dataset"
   ]
  },
  {
   "cell_type": "code",
   "execution_count": 1,
   "metadata": {},
   "outputs": [],
   "source": [
    "import numpy as np\n",
    "import pandas as pd\n",
    "import matplotlib.pyplot as plt\n",
    "import seaborn as sms"
   ]
  },
  {
   "cell_type": "code",
   "execution_count": 2,
   "metadata": {},
   "outputs": [],
   "source": [
    "ds=pd.read_csv(r\"/Users/shama/Desktop/flipr/Train_dataset.csv\")"
   ]
  },
  {
   "cell_type": "code",
   "execution_count": 3,
   "metadata": {},
   "outputs": [
    {
     "data": {
      "text/html": [
       "<div>\n",
       "<style scoped>\n",
       "    .dataframe tbody tr th:only-of-type {\n",
       "        vertical-align: middle;\n",
       "    }\n",
       "\n",
       "    .dataframe tbody tr th {\n",
       "        vertical-align: top;\n",
       "    }\n",
       "\n",
       "    .dataframe thead th {\n",
       "        text-align: right;\n",
       "    }\n",
       "</style>\n",
       "<table border=\"1\" class=\"dataframe\">\n",
       "  <thead>\n",
       "    <tr style=\"text-align: right;\">\n",
       "      <th></th>\n",
       "      <th>Stock Index</th>\n",
       "      <th>Index</th>\n",
       "      <th>Industry</th>\n",
       "      <th>VWAP</th>\n",
       "      <th>General Index</th>\n",
       "      <th>NAV</th>\n",
       "      <th>P/E Ratio</th>\n",
       "      <th>Volumes Traded</th>\n",
       "      <th>Inventory Turnover</th>\n",
       "      <th>Covid Impact (Beta)</th>\n",
       "      <th>Tracking Error</th>\n",
       "      <th>Dollar Exchange Rate</th>\n",
       "      <th>Put-Call Ratio</th>\n",
       "      <th>P/B Ratio</th>\n",
       "      <th>Stock Price</th>\n",
       "    </tr>\n",
       "  </thead>\n",
       "  <tbody>\n",
       "    <tr>\n",
       "      <th>0</th>\n",
       "      <td>AA1</td>\n",
       "      <td>NYSE</td>\n",
       "      <td>Real Estate</td>\n",
       "      <td>700.29</td>\n",
       "      <td>12765.84</td>\n",
       "      <td>32.38</td>\n",
       "      <td>45.35</td>\n",
       "      <td>1208599.0</td>\n",
       "      <td>5.05</td>\n",
       "      <td>-0.43</td>\n",
       "      <td>0.0520</td>\n",
       "      <td>1.0</td>\n",
       "      <td>0.61</td>\n",
       "      <td>9.20</td>\n",
       "      <td>156.987851</td>\n",
       "    </tr>\n",
       "    <tr>\n",
       "      <th>1</th>\n",
       "      <td>AA2</td>\n",
       "      <td>NYSE</td>\n",
       "      <td>Information Tech</td>\n",
       "      <td>214.52</td>\n",
       "      <td>12765.84</td>\n",
       "      <td>33.25</td>\n",
       "      <td>170.56</td>\n",
       "      <td>13753356.0</td>\n",
       "      <td>3.10</td>\n",
       "      <td>0.23</td>\n",
       "      <td>0.0164</td>\n",
       "      <td>1.0</td>\n",
       "      <td>NaN</td>\n",
       "      <td>6.91</td>\n",
       "      <td>560.859622</td>\n",
       "    </tr>\n",
       "    <tr>\n",
       "      <th>2</th>\n",
       "      <td>AA3</td>\n",
       "      <td>NYSE</td>\n",
       "      <td>Information Tech</td>\n",
       "      <td>943.42</td>\n",
       "      <td>12765.84</td>\n",
       "      <td>88.27</td>\n",
       "      <td>143.58</td>\n",
       "      <td>6892003.0</td>\n",
       "      <td>7.70</td>\n",
       "      <td>0.23</td>\n",
       "      <td>0.0396</td>\n",
       "      <td>1.0</td>\n",
       "      <td>NaN</td>\n",
       "      <td>6.09</td>\n",
       "      <td>1279.732874</td>\n",
       "    </tr>\n",
       "    <tr>\n",
       "      <th>3</th>\n",
       "      <td>AA4</td>\n",
       "      <td>BSE</td>\n",
       "      <td>Materials</td>\n",
       "      <td>828.13</td>\n",
       "      <td>38182.08</td>\n",
       "      <td>73.66</td>\n",
       "      <td>151.76</td>\n",
       "      <td>8316793.0</td>\n",
       "      <td>4.80</td>\n",
       "      <td>0.03</td>\n",
       "      <td>0.0431</td>\n",
       "      <td>74.9</td>\n",
       "      <td>1.11</td>\n",
       "      <td>5.60</td>\n",
       "      <td>1121.787632</td>\n",
       "    </tr>\n",
       "    <tr>\n",
       "      <th>4</th>\n",
       "      <td>AA5</td>\n",
       "      <td>S&amp;P 500</td>\n",
       "      <td>Real Estate</td>\n",
       "      <td>NaN</td>\n",
       "      <td>3351.28</td>\n",
       "      <td>23.79</td>\n",
       "      <td>NaN</td>\n",
       "      <td>3943312.0</td>\n",
       "      <td>8.06</td>\n",
       "      <td>-0.43</td>\n",
       "      <td>0.0244</td>\n",
       "      <td>1.0</td>\n",
       "      <td>1.07</td>\n",
       "      <td>9.46</td>\n",
       "      <td>382.962534</td>\n",
       "    </tr>\n",
       "    <tr>\n",
       "      <th>...</th>\n",
       "      <td>...</td>\n",
       "      <td>...</td>\n",
       "      <td>...</td>\n",
       "      <td>...</td>\n",
       "      <td>...</td>\n",
       "      <td>...</td>\n",
       "      <td>...</td>\n",
       "      <td>...</td>\n",
       "      <td>...</td>\n",
       "      <td>...</td>\n",
       "      <td>...</td>\n",
       "      <td>...</td>\n",
       "      <td>...</td>\n",
       "      <td>...</td>\n",
       "      <td>...</td>\n",
       "    </tr>\n",
       "    <tr>\n",
       "      <th>7378</th>\n",
       "      <td>AC3230</td>\n",
       "      <td>NSE</td>\n",
       "      <td>Healthcare</td>\n",
       "      <td>773.91</td>\n",
       "      <td>11270.15</td>\n",
       "      <td>40.28</td>\n",
       "      <td>61.37</td>\n",
       "      <td>19212221.0</td>\n",
       "      <td>4.34</td>\n",
       "      <td>0.78</td>\n",
       "      <td>0.0340</td>\n",
       "      <td>74.9</td>\n",
       "      <td>0.98</td>\n",
       "      <td>NaN</td>\n",
       "      <td>248.019321</td>\n",
       "    </tr>\n",
       "    <tr>\n",
       "      <th>7379</th>\n",
       "      <td>AC3231</td>\n",
       "      <td>JSE</td>\n",
       "      <td>Information Tech</td>\n",
       "      <td>61.97</td>\n",
       "      <td>55722.00</td>\n",
       "      <td>79.56</td>\n",
       "      <td>62.90</td>\n",
       "      <td>8108942.0</td>\n",
       "      <td>3.48</td>\n",
       "      <td>0.23</td>\n",
       "      <td>0.0528</td>\n",
       "      <td>17.7</td>\n",
       "      <td>0.84</td>\n",
       "      <td>NaN</td>\n",
       "      <td>494.555631</td>\n",
       "    </tr>\n",
       "    <tr>\n",
       "      <th>7380</th>\n",
       "      <td>AC3232</td>\n",
       "      <td>JSE</td>\n",
       "      <td>Materials</td>\n",
       "      <td>131.99</td>\n",
       "      <td>55722.00</td>\n",
       "      <td>26.16</td>\n",
       "      <td>198.77</td>\n",
       "      <td>8382586.0</td>\n",
       "      <td>3.04</td>\n",
       "      <td>0.03</td>\n",
       "      <td>0.0359</td>\n",
       "      <td>17.7</td>\n",
       "      <td>1.22</td>\n",
       "      <td>NaN</td>\n",
       "      <td>500.869063</td>\n",
       "    </tr>\n",
       "    <tr>\n",
       "      <th>7381</th>\n",
       "      <td>AC3233</td>\n",
       "      <td>S&amp;P 500</td>\n",
       "      <td>Materials</td>\n",
       "      <td>643.72</td>\n",
       "      <td>3351.28</td>\n",
       "      <td>29.24</td>\n",
       "      <td>38.83</td>\n",
       "      <td>18638400.0</td>\n",
       "      <td>2.66</td>\n",
       "      <td>0.03</td>\n",
       "      <td>0.0581</td>\n",
       "      <td>1.0</td>\n",
       "      <td>1.04</td>\n",
       "      <td>NaN</td>\n",
       "      <td>113.170686</td>\n",
       "    </tr>\n",
       "    <tr>\n",
       "      <th>7382</th>\n",
       "      <td>AC3234</td>\n",
       "      <td>S&amp;P 500</td>\n",
       "      <td>Information Tech</td>\n",
       "      <td>126.46</td>\n",
       "      <td>3351.28</td>\n",
       "      <td>23.30</td>\n",
       "      <td>105.83</td>\n",
       "      <td>14707806.0</td>\n",
       "      <td>7.51</td>\n",
       "      <td>0.23</td>\n",
       "      <td>0.0490</td>\n",
       "      <td>1.0</td>\n",
       "      <td>1.23</td>\n",
       "      <td>NaN</td>\n",
       "      <td>236.641085</td>\n",
       "    </tr>\n",
       "  </tbody>\n",
       "</table>\n",
       "<p>7383 rows × 15 columns</p>\n",
       "</div>"
      ],
      "text/plain": [
       "     Stock Index    Index          Industry    VWAP  General Index    NAV  \\\n",
       "0            AA1     NYSE       Real Estate  700.29       12765.84  32.38   \n",
       "1            AA2     NYSE  Information Tech  214.52       12765.84  33.25   \n",
       "2            AA3     NYSE  Information Tech  943.42       12765.84  88.27   \n",
       "3            AA4      BSE         Materials  828.13       38182.08  73.66   \n",
       "4            AA5  S&P 500       Real Estate     NaN        3351.28  23.79   \n",
       "...          ...      ...               ...     ...            ...    ...   \n",
       "7378      AC3230      NSE        Healthcare  773.91       11270.15  40.28   \n",
       "7379      AC3231      JSE  Information Tech   61.97       55722.00  79.56   \n",
       "7380      AC3232      JSE         Materials  131.99       55722.00  26.16   \n",
       "7381      AC3233  S&P 500         Materials  643.72        3351.28  29.24   \n",
       "7382      AC3234  S&P 500  Information Tech  126.46        3351.28  23.30   \n",
       "\n",
       "      P/E Ratio  Volumes Traded  Inventory Turnover  Covid Impact (Beta)  \\\n",
       "0         45.35       1208599.0                5.05                -0.43   \n",
       "1        170.56      13753356.0                3.10                 0.23   \n",
       "2        143.58       6892003.0                7.70                 0.23   \n",
       "3        151.76       8316793.0                4.80                 0.03   \n",
       "4           NaN       3943312.0                8.06                -0.43   \n",
       "...         ...             ...                 ...                  ...   \n",
       "7378      61.37      19212221.0                4.34                 0.78   \n",
       "7379      62.90       8108942.0                3.48                 0.23   \n",
       "7380     198.77       8382586.0                3.04                 0.03   \n",
       "7381      38.83      18638400.0                2.66                 0.03   \n",
       "7382     105.83      14707806.0                7.51                 0.23   \n",
       "\n",
       "      Tracking Error  Dollar Exchange Rate  Put-Call Ratio  P/B Ratio  \\\n",
       "0             0.0520                   1.0            0.61       9.20   \n",
       "1             0.0164                   1.0             NaN       6.91   \n",
       "2             0.0396                   1.0             NaN       6.09   \n",
       "3             0.0431                  74.9            1.11       5.60   \n",
       "4             0.0244                   1.0            1.07       9.46   \n",
       "...              ...                   ...             ...        ...   \n",
       "7378          0.0340                  74.9            0.98        NaN   \n",
       "7379          0.0528                  17.7            0.84        NaN   \n",
       "7380          0.0359                  17.7            1.22        NaN   \n",
       "7381          0.0581                   1.0            1.04        NaN   \n",
       "7382          0.0490                   1.0            1.23        NaN   \n",
       "\n",
       "      Stock Price  \n",
       "0      156.987851  \n",
       "1      560.859622  \n",
       "2     1279.732874  \n",
       "3     1121.787632  \n",
       "4      382.962534  \n",
       "...           ...  \n",
       "7378   248.019321  \n",
       "7379   494.555631  \n",
       "7380   500.869063  \n",
       "7381   113.170686  \n",
       "7382   236.641085  \n",
       "\n",
       "[7383 rows x 15 columns]"
      ]
     },
     "execution_count": 3,
     "metadata": {},
     "output_type": "execute_result"
    }
   ],
   "source": [
    "ds"
   ]
  },
  {
   "cell_type": "code",
   "execution_count": 4,
   "metadata": {},
   "outputs": [
    {
     "data": {
      "text/plain": [
       "Stock Index             False\n",
       "Index                   False\n",
       "Industry                False\n",
       "VWAP                     True\n",
       "General Index            True\n",
       "NAV                      True\n",
       "P/E Ratio                True\n",
       "Volumes Traded           True\n",
       "Inventory Turnover       True\n",
       "Covid Impact (Beta)      True\n",
       "Tracking Error           True\n",
       "Dollar Exchange Rate     True\n",
       "Put-Call Ratio           True\n",
       "P/B Ratio                True\n",
       "Stock Price             False\n",
       "dtype: bool"
      ]
     },
     "execution_count": 4,
     "metadata": {},
     "output_type": "execute_result"
    }
   ],
   "source": [
    "ds.isnull().any()"
   ]
  },
  {
   "cell_type": "code",
   "execution_count": 5,
   "metadata": {},
   "outputs": [],
   "source": [
    "ds.fillna(ds.mean(),inplace=True)"
   ]
  },
  {
   "cell_type": "code",
   "execution_count": 6,
   "metadata": {
    "scrolled": true
   },
   "outputs": [
    {
     "data": {
      "text/plain": [
       "Stock Index             False\n",
       "Index                   False\n",
       "Industry                False\n",
       "VWAP                    False\n",
       "General Index           False\n",
       "NAV                     False\n",
       "P/E Ratio               False\n",
       "Volumes Traded          False\n",
       "Inventory Turnover      False\n",
       "Covid Impact (Beta)     False\n",
       "Tracking Error          False\n",
       "Dollar Exchange Rate    False\n",
       "Put-Call Ratio          False\n",
       "P/B Ratio               False\n",
       "Stock Price             False\n",
       "dtype: bool"
      ]
     },
     "execution_count": 6,
     "metadata": {},
     "output_type": "execute_result"
    }
   ],
   "source": [
    "ds.isnull().any()"
   ]
  },
  {
   "cell_type": "markdown",
   "metadata": {},
   "source": [
    "# Data correlation and visualization"
   ]
  },
  {
   "cell_type": "code",
   "execution_count": 7,
   "metadata": {
    "scrolled": false
   },
   "outputs": [
    {
     "data": {
      "text/plain": [
       "<matplotlib.axes._subplots.AxesSubplot at 0x7fe6118dea90>"
      ]
     },
     "execution_count": 7,
     "metadata": {},
     "output_type": "execute_result"
    },
    {
     "data": {
      "image/png": "[encoded data removed]",
      "text/plain": [
       "<Figure size 720x720 with 2 Axes>"
      ]
     },
     "metadata": {
      "needs_background": "light"
     },
     "output_type": "display_data"
    }
   ],
   "source": [
    "ds_corr=ds.corr()\n",
    "plt.figure(figsize=(10,10))\n",
    "sms.heatmap(ds_corr[[\"Stock Price\"]],annot = True, vmin=-1, vmax=1, center= 0, cmap= 'coolwarm', linewidths=3, linecolor='black')"
   ]
  },
  {
   "cell_type": "code",
   "execution_count": 8,
   "metadata": {},
   "outputs": [],
   "source": [
    "#sms.pairplot(ds, x_vars=[\"Stock Index\",\"Index\",\"Industry\",\"VWAP\",\"General Index\",\"NAV\",\"P/E Ratio\",\"Volumes Traded\",\"Inventory Turnover\",\"Covid Impact (Beta)\",\"Tracking Error\",\"Dollar Exchange Rate\",\"Put-Call Ratio\",\"P/B Ratio\"],y_vars=[\"Stock Price\"])"
   ]
  },
  {
   "cell_type": "markdown",
   "metadata": {},
   "source": [
    "# Spliting Data"
   ]
  },
  {
   "cell_type": "code",
   "execution_count": 9,
   "metadata": {},
   "outputs": [],
   "source": [
    "x=ds.iloc[:,1:14].values\n",
    "y=ds.iloc[:,14:15].values"
   ]
  },
  {
   "cell_type": "code",
   "execution_count": 10,
   "metadata": {},
   "outputs": [
    {
     "data": {
      "text/plain": [
       "array([[ 156.9878515],\n",
       "       [ 560.8596216],\n",
       "       [1279.732874 ],\n",
       "       ...,\n",
       "       [ 500.869063 ],\n",
       "       [ 113.1706856],\n",
       "       [ 236.6410854]])"
      ]
     },
     "execution_count": 10,
     "metadata": {},
     "output_type": "execute_result"
    }
   ],
   "source": [
    "y"
   ]
  },
  {
   "cell_type": "code",
   "execution_count": 11,
   "metadata": {},
   "outputs": [],
   "source": [
    "from sklearn.preprocessing import LabelEncoder\n",
    "ld=LabelEncoder()\n",
    "x[:,0]=ld.fit_transform(x[:,0])\n",
    "x[:,1]=ld.fit_transform(x[:,1])"
   ]
  },
  {
   "cell_type": "code",
   "execution_count": 12,
   "metadata": {},
   "outputs": [],
   "source": [
    "from sklearn.model_selection import train_test_split\n",
    "x_train,x_test,y_train,y_test=train_test_split(x,y,test_size=0.1,random_state=0)"
   ]
  },
  {
   "cell_type": "markdown",
   "metadata": {},
   "source": [
    "# Model training"
   ]
  },
  {
   "cell_type": "code",
   "execution_count": 13,
   "metadata": {},
   "outputs": [
    {
     "data": {
      "text/plain": [
       "LinearRegression(copy_X=True, fit_intercept=True, n_jobs=None, normalize=False)"
      ]
     },
     "execution_count": 13,
     "metadata": {},
     "output_type": "execute_result"
    }
   ],
   "source": [
    "from sklearn.linear_model import LinearRegression\n",
    "mlr=LinearRegression()\n",
    "mlr.fit(x_train,y_train)"
   ]
  },
  {
   "cell_type": "code",
   "execution_count": 14,
   "metadata": {},
   "outputs": [],
   "source": [
    "y_pred=mlr.predict(x_test)"
   ]
  },
  {
   "cell_type": "markdown",
   "metadata": {},
   "source": [
    "# Accuracy"
   ]
  },
  {
   "cell_type": "code",
   "execution_count": 15,
   "metadata": {},
   "outputs": [
    {
     "data": {
      "text/plain": [
       "0.8785360502937098"
      ]
     },
     "execution_count": 15,
     "metadata": {},
     "output_type": "execute_result"
    }
   ],
   "source": [
    "from sklearn.metrics import r2_score\n",
    "r2_score(y_test,y_pred)"
   ]
  },
  {
   "cell_type": "markdown",
   "metadata": {},
   "source": [
    "# Test data "
   ]
  },
  {
   "cell_type": "code",
   "execution_count": 16,
   "metadata": {},
   "outputs": [],
   "source": [
    "df=pd.read_csv(r\"/Users/shama/Desktop/flipr/Test_dataset.csv\")"
   ]
  },
  {
   "cell_type": "code",
   "execution_count": 17,
   "metadata": {},
   "outputs": [
    {
     "data": {
      "text/plain": [
       "Stock Index             False\n",
       "Index                   False\n",
       "Industry                False\n",
       "VWAP                     True\n",
       "General Index            True\n",
       "NAV                      True\n",
       "P/E Ratio                True\n",
       "Volumes Traded           True\n",
       "Inventory Turnover       True\n",
       "Covid Impact (Beta)      True\n",
       "Tracking Error           True\n",
       "Dollar Exchange Rate     True\n",
       "Put-Call Ratio           True\n",
       "P/B Ratio                True\n",
       "dtype: bool"
      ]
     },
     "execution_count": 17,
     "metadata": {},
     "output_type": "execute_result"
    }
   ],
   "source": [
    "df.isnull().any()"
   ]
  },
  {
   "cell_type": "code",
   "execution_count": 18,
   "metadata": {},
   "outputs": [],
   "source": [
    "df.fillna(ds.mean(),inplace=True)"
   ]
  },
  {
   "cell_type": "code",
   "execution_count": 19,
   "metadata": {},
   "outputs": [
    {
     "data": {
      "text/plain": [
       "Stock Index             False\n",
       "Index                   False\n",
       "Industry                False\n",
       "VWAP                    False\n",
       "General Index           False\n",
       "NAV                     False\n",
       "P/E Ratio               False\n",
       "Volumes Traded          False\n",
       "Inventory Turnover      False\n",
       "Covid Impact (Beta)     False\n",
       "Tracking Error          False\n",
       "Dollar Exchange Rate    False\n",
       "Put-Call Ratio          False\n",
       "P/B Ratio               False\n",
       "dtype: bool"
      ]
     },
     "execution_count": 19,
     "metadata": {},
     "output_type": "execute_result"
    }
   ],
   "source": [
    "df.isnull().any()"
   ]
  },
  {
   "cell_type": "code",
   "execution_count": 20,
   "metadata": {},
   "outputs": [],
   "source": [
    "x=df.iloc[:,1:14].values"
   ]
  },
  {
   "cell_type": "code",
   "execution_count": 21,
   "metadata": {},
   "outputs": [],
   "source": [
    "from sklearn.preprocessing import LabelEncoder\n",
    "ld=LabelEncoder()\n",
    "x[:,0]=ld.fit_transform(x[:,0])\n",
    "x[:,1]=ld.fit_transform(x[:,1])"
   ]
  },
  {
   "cell_type": "code",
   "execution_count": 22,
   "metadata": {},
   "outputs": [],
   "source": [
    "y1=mlr.predict(x)"
   ]
  },
  {
   "cell_type": "code",
   "execution_count": 23,
   "metadata": {
    "scrolled": true
   },
   "outputs": [
    {
     "data": {
      "text/plain": [
       "array([[ 866.38695243],\n",
       "       [ 410.35771922],\n",
       "       [1309.83784619],\n",
       "       ...,\n",
       "       [ 578.68359562],\n",
       "       [ 583.01315205],\n",
       "       [1159.47189866]])"
      ]
     },
     "execution_count": 23,
     "metadata": {},
     "output_type": "execute_result"
    }
   ],
   "source": [
    "y1"
   ]
  },
  {
   "cell_type": "markdown",
   "metadata": {},
   "source": [
    "# Store in excel"
   ]
  },
  {
   "cell_type": "code",
   "execution_count": 24,
   "metadata": {},
   "outputs": [],
   "source": [
    "dg=pd.DataFrame(y1)"
   ]
  },
  {
   "cell_type": "code",
   "execution_count": 25,
   "metadata": {},
   "outputs": [],
   "source": [
    "writer = pd.ExcelWriter('/Users/shama/Desktop/flipr/Book.xlsx',engine='xlsxwriter')\n",
    "dg.to_excel(writer, sheet_name='Sheet1', startrow=0 , startcol=1,index=False,index_label='Stock Price')\n",
    "writer.save()"
   ]
  }
 ],
 "metadata": {
  "kernelspec": {
   "display_name": "Python 3",
   "language": "python",
   "name": "python3"
  },
  "language_info": {
   "codemirror_mode": {
    "name": "ipython",
    "version": 3
   },
   "file_extension": ".py",
   "mimetype": "text/x-python",
   "name": "python",
   "nbconvert_exporter": "python",
   "pygments_lexer": "ipython3",
   "version": "3.7.4"
  }
 },
 "nbformat": 4,
 "nbformat_minor": 2
}
